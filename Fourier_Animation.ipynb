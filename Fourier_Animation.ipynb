{
  "nbformat": 4,
  "nbformat_minor": 0,
  "metadata": {
    "colab": {
      "name": "Fourier_Animation.ipynb",
      "provenance": [],
      "collapsed_sections": [],
      "authorship_tag": "ABX9TyPo3Viee+3OhXEfRw1P4W+D",
      "include_colab_link": true
    },
    "kernelspec": {
      "name": "python3",
      "display_name": "Python 3"
    }
  },
  "cells": [
    {
      "cell_type": "markdown",
      "metadata": {
        "id": "view-in-github",
        "colab_type": "text"
      },
      "source": [
        "<a href=\"https://colab.research.google.com/github/TheMagicShop/Fourier-Series-illustration/blob/main/Fourier_Animation.ipynb\" target=\"_parent\"><img src=\"https://colab.research.google.com/assets/colab-badge.svg\" alt=\"Open In Colab\"/></a>"
      ]
    },
    {
      "cell_type": "markdown",
      "metadata": {
        "id": "squw-Xg0lmHr"
      },
      "source": [
        "This script helps you visualize the fourier series converging(or actually not) to the true signal, or either to have an insight of the gibbs phenomenon.\r\n",
        "\r\n",
        "The fourier series are valid for a broad class of signals that have a physical sense, maybe the most practical way is checking for Dirichlet conditions, but since no one seeing you, you can apply this to any function you want."
      ]
    },
    {
      "cell_type": "code",
      "metadata": {
        "id": "mbjsiyaNoJiA"
      },
      "source": [
        "import numpy as np\r\n",
        "from scipy.integrate import quad\r\n",
        "import matplotlib.pyplot as plt\r\n",
        "from matplotlib import animation, rc\r\n",
        "from IPython.display import HTML\r\n",
        "import warnings\r\n",
        "warnings.filterwarnings(action=\"ignore\")\r\n",
        "%matplotlib inline\r\n",
        "################################################################################\r\n",
        "def fourier_coef(func , period , n , alpha=0 , even=False , odd=False):\r\n",
        "  # compute the n-th fourier cofficient (an,bn)\r\n",
        "  # if your function is either even or odd please mention it\r\n",
        "  # if you are constructiong your own function in a certain interval\r\n",
        "  # you can specify alpha and make your life easier\r\n",
        "  # for example a function is defined in (-1,4), you can put alpha=-1 and T=5\r\n",
        "  T = period\r\n",
        "  omega = 2*np.pi / T\r\n",
        "  round_err = 12\r\n",
        "\r\n",
        "  if n == 0:  ## compute a0\r\n",
        "    if odd:\r\n",
        "      return 0\r\n",
        "    else:\r\n",
        "      a0, _ = quad(func , alpha , alpha+T)\r\n",
        "      a0 = a0 / T\r\n",
        "      a0 = round(a0 , round_err)\r\n",
        "      return (a0 , 0)\r\n",
        "\r\n",
        "  an , bn = 0 , 0\r\n",
        "  if not odd:\r\n",
        "    an , _ = quad(lambda t : func(t) * np.cos(n*omega*t) , alpha , alpha+T)\r\n",
        "    an = 2 * an / T\r\n",
        "    an = round(an , round_err)\r\n",
        "  if not even:\r\n",
        "    bn , _ = quad(lambda t : func(t) * np.sin(n*omega*t) , alpha , alpha+T)\r\n",
        "    bn = 2 * bn / T\r\n",
        "    bn = round(bn , round_err)  \r\n",
        "  return (an , bn)\r\n",
        "################################################################################\r\n",
        "def fourier_serie(func , period , N , alpha=0 , even=False , odd=False):\r\n",
        "  # compute the fourier serie till the N-th term\r\n",
        "  T = period\r\n",
        "  omega = 2*np.pi / T\r\n",
        "  \r\n",
        "  line = np.linspace(-2*T , 2*T , 1000) # x values\r\n",
        "\r\n",
        "  def term(n):    # an*cos(nwx) + bn*sin(nwx)   -for all x in (-2T,2T)\r\n",
        "    an , bn = fourier_coef(func , period , n , alpha=alpha , even=even , odd=odd)\r\n",
        "    return an * np.cos(n * omega * line) + bn * np.sin(n * omega * line)\r\n",
        "  \r\n",
        "  SN = np.empty((line.shape[0] , N+1))\r\n",
        "  SN[:,0] = term(0).T\r\n",
        "  for n in range(1,N+1):\r\n",
        "    SN[:,n] = term(n).T + SN[:,n-1]\r\n",
        "\r\n",
        "  return SN\r\n",
        "################################################################################\r\n",
        "def plot_fourier(func , period , N , alpha=0 , show_original=True , even=False , odd=False):\r\n",
        "  # return an animation of the fourie serie from 0(dc) to N\r\n",
        "  # if you dont want to show the original signal \r\n",
        "  # in the background please mention show_original=False\r\n",
        "  T = period\r\n",
        "  SN = fourier_serie(func , period , N , alpha=alpha , even=even , odd=odd)\r\n",
        "\r\n",
        "  line = np.linspace(-2*T , 2*T , 1000)\r\n",
        "\r\n",
        "  ymin , ymax = SN.min() , SN.max()\r\n",
        "  fig = plt.figure(figsize=(12,6))\r\n",
        "  ax = fig.add_axes([0.03 , 0.07 , 0.95 , 0.88])\r\n",
        "  ax.set_xlim((-2*T , 2*T))\r\n",
        "  ax.set_ylim((0.9*ymin , 1.1*ymax))\r\n",
        "  ax.set_xticks([-T,0,T])\r\n",
        "  ax.set_xticklabels([\"-T\" , \"0\" , \"T\"] , fontsize=14)\r\n",
        "  ax.set_title(\"Fourier Serie\" , fontdict={'color':'midnightblue' , 'fontsize':'xx-large'})\r\n",
        "  p, = ax.plot([], [], lw=2)\r\n",
        "\r\n",
        "  if show_original:\r\n",
        "    l = np.linspace(alpha,alpha+T , 250)\r\n",
        "    vz = np.vectorize(func)\r\n",
        "    out = vz(l)\r\n",
        "    L = np.hstack((l-3*T , l-2*T , l-T , l , l+T , l+2*T , l+3*T))\r\n",
        "    OUT = np.hstack((out , out , out , out , out , out , out))\r\n",
        "    ax.plot(L , OUT , \"--g\" , alpha = 0.5)\r\n",
        "\r\n",
        "\r\n",
        "  def init():\r\n",
        "      p.set_data([], [])\r\n",
        "      return (p,)\r\n",
        "\r\n",
        "  def animate(n):\r\n",
        "    p.set_data(line , SN[:,n])\r\n",
        "    p.set_label(str(n))\r\n",
        "    ax.legend(loc=\"upper right\", title='N' ,title_fontsize = 16, prop={'size': 16})\r\n",
        "    return (p,)\r\n",
        "\r\n",
        "  if N < 5:\r\n",
        "    interval = 2000\r\n",
        "  elif N < 10:\r\n",
        "    interval = 1000\r\n",
        "  elif N < 25:\r\n",
        "    interval = 800\r\n",
        "  elif N < 50:\r\n",
        "    interval = 500\r\n",
        "  else:\r\n",
        "    interval = 200\r\n",
        "  \r\n",
        "  anim = animation.FuncAnimation(fig, animate, init_func=init,\r\n",
        "                                frames=N+1, interval=interval, blit=True)\r\n",
        "  \r\n",
        "  X = HTML(anim.to_html5_video())\r\n",
        "\r\n",
        "  fig.delaxes(ax)\r\n",
        "  return X"
      ],
      "execution_count": 54,
      "outputs": []
    },
    {
      "cell_type": "markdown",
      "metadata": {
        "id": "Vqp73Sg7oEHg"
      },
      "source": [
        "if your signal is either odd or even please mention it by setting `odd=True` or `even=True`, if your making your own periodic signal from an aperiodic signal in some interval [a,a+T] you can set `alpha=a`, the original signal will show by default in the background if you don't like it please set `show_original=True `.\r\n",
        "\r\n",
        "so just call the function:\r\n",
        "\r\n",
        "\r\n",
        "```\r\n",
        "plot_fourier(func , period , N , alpha=0 , show_original=True , even=False , odd=False)\r\n",
        "```\r\n",
        "or equivalently \r\n",
        "\r\n",
        "\r\n",
        "```\r\n",
        "plot_fourier(func , period , N)\r\n",
        "```\r\n",
        "\r\n",
        "where `alpha`, `show_original`, `even` and `odd` are set to default values.\r\n",
        "\r\n",
        "`func` is the signal, and `N` is the end term in your fourier serie\r\n",
        "\r\n"
      ]
    },
    {
      "cell_type": "markdown",
      "metadata": {
        "id": "fsci18OAq7Ub"
      },
      "source": [
        "# Let's try some Examples"
      ]
    },
    {
      "cell_type": "code",
      "metadata": {
        "id": "mbRdnZinbdjV"
      },
      "source": [
        "# Example 1\r\n",
        "# this a 1-periodic function equals 1 in [0,1/2] and 0 in ]1/2,1] \r\n",
        "\r\n",
        "func = lambda x : 1 if x<=1/2 else 0\r\n",
        "period = 1\r\n",
        "N = 180\r\n",
        "\r\n",
        "plot_fourier(func, period, N) #call"
      ],
      "execution_count": null,
      "outputs": []
    },
    {
      "cell_type": "code",
      "metadata": {
        "id": "7HutzwFcu1SP"
      },
      "source": [
        "# Example 2\r\n",
        "# trying to aproach the pulse train\r\n",
        "\r\n",
        "func = lambda x : 1 if x<=1/100 else 0\r\n",
        "period = 1\r\n",
        "N = 150\r\n",
        "\r\n",
        "plot_fourier(func, period, N) #call"
      ],
      "execution_count": null,
      "outputs": []
    },
    {
      "cell_type": "code",
      "metadata": {
        "id": "ymsIxYtfM4Kj"
      },
      "source": [
        "# Example 3\r\n",
        "# this is the funcion that equals x in [-1/2,1/2] and repeated with a period 1\r\n",
        "\r\n",
        "func = lambda x : x \r\n",
        "period = 1\r\n",
        "alpha = -1/2\r\n",
        "N = 100\r\n",
        "\r\n",
        "plot_fourier(func, period, N, alpha=alpha)"
      ],
      "execution_count": null,
      "outputs": []
    },
    {
      "cell_type": "code",
      "metadata": {
        "id": "CIUCwywXwaQT"
      },
      "source": [
        "# Example 4\r\n",
        "\r\n",
        "func = lambda x : np.sin(np.tan(x))\r\n",
        "period = np.pi/2\r\n",
        "N=100\r\n",
        "\r\n",
        "plot_fourier(func, period, N)"
      ],
      "execution_count": null,
      "outputs": []
    },
    {
      "cell_type": "code",
      "metadata": {
        "id": "MlOpFJShyKgZ"
      },
      "source": [
        "# Example 5\r\n",
        "\r\n",
        "func = lambda x : np.sin(1/np.sin(x))\r\n",
        "period = 2*np.pi\r\n",
        "N = 200\r\n",
        "\r\n",
        "plot_fourier(func, period, N)"
      ],
      "execution_count": null,
      "outputs": []
    }
  ]
}